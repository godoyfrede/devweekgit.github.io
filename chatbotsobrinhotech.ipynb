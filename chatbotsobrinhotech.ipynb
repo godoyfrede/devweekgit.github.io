{
  "nbformat": 4,
  "nbformat_minor": 0,
  "metadata": {
    "colab": {
      "provenance": [],
      "toc_visible": true
    },
    "kernelspec": {
      "name": "python3",
      "display_name": "Python 3"
    },
    "language_info": {
      "name": "python"
    }
  },
  "cells": [
    {
      "cell_type": "code",
      "execution_count": 1,
      "metadata": {
        "colab": {
          "base_uri": "https://localhost:8080/"
        },
        "id": "Gpg8h9FpK4Nz",
        "outputId": "b45b214e-f72b-4174-e7ab-df893a4565f1"
      },
      "outputs": [
        {
          "output_type": "stream",
          "name": "stdout",
          "text": [
            "Requirement already satisfied: google-genai in /usr/local/lib/python3.11/dist-packages (1.15.0)\n",
            "Requirement already satisfied: anyio<5.0.0,>=4.8.0 in /usr/local/lib/python3.11/dist-packages (from google-genai) (4.9.0)\n",
            "Requirement already satisfied: google-auth<3.0.0,>=2.14.1 in /usr/local/lib/python3.11/dist-packages (from google-genai) (2.38.0)\n",
            "Requirement already satisfied: httpx<1.0.0,>=0.28.1 in /usr/local/lib/python3.11/dist-packages (from google-genai) (0.28.1)\n",
            "Requirement already satisfied: pydantic<3.0.0,>=2.0.0 in /usr/local/lib/python3.11/dist-packages (from google-genai) (2.11.4)\n",
            "Requirement already satisfied: requests<3.0.0,>=2.28.1 in /usr/local/lib/python3.11/dist-packages (from google-genai) (2.32.3)\n",
            "Requirement already satisfied: websockets<15.1.0,>=13.0.0 in /usr/local/lib/python3.11/dist-packages (from google-genai) (15.0.1)\n",
            "Requirement already satisfied: typing-extensions<5.0.0,>=4.11.0 in /usr/local/lib/python3.11/dist-packages (from google-genai) (4.13.2)\n",
            "Requirement already satisfied: idna>=2.8 in /usr/local/lib/python3.11/dist-packages (from anyio<5.0.0,>=4.8.0->google-genai) (3.10)\n",
            "Requirement already satisfied: sniffio>=1.1 in /usr/local/lib/python3.11/dist-packages (from anyio<5.0.0,>=4.8.0->google-genai) (1.3.1)\n",
            "Requirement already satisfied: cachetools<6.0,>=2.0.0 in /usr/local/lib/python3.11/dist-packages (from google-auth<3.0.0,>=2.14.1->google-genai) (5.5.2)\n",
            "Requirement already satisfied: pyasn1-modules>=0.2.1 in /usr/local/lib/python3.11/dist-packages (from google-auth<3.0.0,>=2.14.1->google-genai) (0.4.2)\n",
            "Requirement already satisfied: rsa<5,>=3.1.4 in /usr/local/lib/python3.11/dist-packages (from google-auth<3.0.0,>=2.14.1->google-genai) (4.9.1)\n",
            "Requirement already satisfied: certifi in /usr/local/lib/python3.11/dist-packages (from httpx<1.0.0,>=0.28.1->google-genai) (2025.4.26)\n",
            "Requirement already satisfied: httpcore==1.* in /usr/local/lib/python3.11/dist-packages (from httpx<1.0.0,>=0.28.1->google-genai) (1.0.9)\n",
            "Requirement already satisfied: h11>=0.16 in /usr/local/lib/python3.11/dist-packages (from httpcore==1.*->httpx<1.0.0,>=0.28.1->google-genai) (0.16.0)\n",
            "Requirement already satisfied: annotated-types>=0.6.0 in /usr/local/lib/python3.11/dist-packages (from pydantic<3.0.0,>=2.0.0->google-genai) (0.7.0)\n",
            "Requirement already satisfied: pydantic-core==2.33.2 in /usr/local/lib/python3.11/dist-packages (from pydantic<3.0.0,>=2.0.0->google-genai) (2.33.2)\n",
            "Requirement already satisfied: typing-inspection>=0.4.0 in /usr/local/lib/python3.11/dist-packages (from pydantic<3.0.0,>=2.0.0->google-genai) (0.4.0)\n",
            "Requirement already satisfied: charset-normalizer<4,>=2 in /usr/local/lib/python3.11/dist-packages (from requests<3.0.0,>=2.28.1->google-genai) (3.4.2)\n",
            "Requirement already satisfied: urllib3<3,>=1.21.1 in /usr/local/lib/python3.11/dist-packages (from requests<3.0.0,>=2.28.1->google-genai) (2.4.0)\n",
            "Requirement already satisfied: pyasn1<0.7.0,>=0.6.1 in /usr/local/lib/python3.11/dist-packages (from pyasn1-modules>=0.2.1->google-auth<3.0.0,>=2.14.1->google-genai) (0.6.1)\n"
          ]
        }
      ],
      "source": [
        "!pip install google-genai"
      ]
    },
    {
      "cell_type": "code",
      "source": [
        "import os\n",
        "from google.colab import userdata\n",
        "\n",
        "os.environ['GOOGLE_API_KEY'] = userdata.get('GOOGLE_API_KEY')"
      ],
      "metadata": {
        "id": "Q2cZ2A2iMrKM"
      },
      "execution_count": 5,
      "outputs": []
    },
    {
      "cell_type": "code",
      "source": [
        "from google import genai\n",
        "\n",
        "client = genai.Client()"
      ],
      "metadata": {
        "id": "fLysyIv9NMin"
      },
      "execution_count": 6,
      "outputs": []
    },
    {
      "cell_type": "code",
      "source": [
        "for model in client.models.list():\n",
        "  print(model.name)"
      ],
      "metadata": {
        "colab": {
          "base_uri": "https://localhost:8080/"
        },
        "id": "fkKzRCIVPfhY",
        "outputId": "857640f4-12a7-41be-f888-0f6aed678717"
      },
      "execution_count": 7,
      "outputs": [
        {
          "output_type": "stream",
          "name": "stdout",
          "text": [
            "models/chat-bison-001\n",
            "models/text-bison-001\n",
            "models/embedding-gecko-001\n",
            "models/gemini-1.0-pro-vision-latest\n",
            "models/gemini-pro-vision\n",
            "models/gemini-1.5-pro-latest\n",
            "models/gemini-1.5-pro-001\n",
            "models/gemini-1.5-pro-002\n",
            "models/gemini-1.5-pro\n",
            "models/gemini-1.5-flash-latest\n",
            "models/gemini-1.5-flash-001\n",
            "models/gemini-1.5-flash-001-tuning\n",
            "models/gemini-1.5-flash\n",
            "models/gemini-1.5-flash-002\n",
            "models/gemini-1.5-flash-8b\n",
            "models/gemini-1.5-flash-8b-001\n",
            "models/gemini-1.5-flash-8b-latest\n",
            "models/gemini-1.5-flash-8b-exp-0827\n",
            "models/gemini-1.5-flash-8b-exp-0924\n",
            "models/gemini-2.5-pro-exp-03-25\n",
            "models/gemini-2.5-pro-preview-03-25\n",
            "models/gemini-2.5-flash-preview-04-17\n",
            "models/gemini-2.5-flash-preview-04-17-thinking\n",
            "models/gemini-2.5-pro-preview-05-06\n",
            "models/gemini-2.0-flash-exp\n",
            "models/gemini-2.0-flash\n",
            "models/gemini-2.0-flash-001\n",
            "models/gemini-2.0-flash-exp-image-generation\n",
            "models/gemini-2.0-flash-lite-001\n",
            "models/gemini-2.0-flash-lite\n",
            "models/gemini-2.0-flash-preview-image-generation\n",
            "models/gemini-2.0-flash-lite-preview-02-05\n",
            "models/gemini-2.0-flash-lite-preview\n",
            "models/gemini-2.0-pro-exp\n",
            "models/gemini-2.0-pro-exp-02-05\n",
            "models/gemini-exp-1206\n",
            "models/gemini-2.0-flash-thinking-exp-01-21\n",
            "models/gemini-2.0-flash-thinking-exp\n",
            "models/gemini-2.0-flash-thinking-exp-1219\n",
            "models/learnlm-2.0-flash-experimental\n",
            "models/gemma-3-1b-it\n",
            "models/gemma-3-4b-it\n",
            "models/gemma-3-12b-it\n",
            "models/gemma-3-27b-it\n",
            "models/embedding-001\n",
            "models/text-embedding-004\n",
            "models/gemini-embedding-exp-03-07\n",
            "models/gemini-embedding-exp\n",
            "models/aqa\n",
            "models/imagen-3.0-generate-002\n",
            "models/gemini-2.0-flash-live-001\n"
          ]
        }
      ]
    },
    {
      "cell_type": "code",
      "source": [
        "model = \"gemini-2.0-flash\"\n",
        "\n",
        "response = client.models.generate_content(model=model,\n",
        "                                          contents=\"Como baixar o WhatsApp?\")"
      ],
      "metadata": {
        "id": "65KwQ8HaP5od"
      },
      "execution_count": 8,
      "outputs": []
    },
    {
      "cell_type": "code",
      "source": [
        "response.text"
      ],
      "metadata": {
        "colab": {
          "base_uri": "https://localhost:8080/",
          "height": 192
        },
        "id": "Szw97uEmTYNC",
        "outputId": "a7e69f05-a2d3-4f8b-a8c2-45b92329e540"
      },
      "execution_count": 11,
      "outputs": [
        {
          "output_type": "execute_result",
          "data": {
            "text/plain": [
              "'Para baixar o WhatsApp, siga as instruções abaixo, dependendo do seu dispositivo:\\n\\n**Em um celular Android (Samsung, Motorola, Xiaomi, etc.):**\\n\\n1.  **Abra a Google Play Store:** Procure o ícone da Play Store na tela inicial ou na gaveta de aplicativos. Geralmente é um ícone com um triângulo colorido.\\n2.  **Pesquise por \"WhatsApp\":** Na barra de pesquisa da Play Store, digite \"WhatsApp\" e toque no ícone de pesquisa (geralmente uma lupa).\\n3.  **Selecione o WhatsApp Messenger:** Na lista de resultados, procure pelo aplicativo \"WhatsApp Messenger\" (desenvolvido pelo WhatsApp LLC).\\n4.  **Toque em \"Instalar\":** Na página do aplicativo, toque no botão \"Instalar\".\\n5.  **Aguarde o download e a instalação:** O aplicativo será baixado e instalado automaticamente.\\n6.  **Abra o WhatsApp:** Após a instalação, toque no botão \"Abrir\" ou procure o ícone do WhatsApp na tela inicial ou na gaveta de aplicativos e toque nele.\\n7.  **Siga as instruções na tela:** O WhatsApp irá guiá-lo pelo processo de configuração, que inclui aceitar os termos de serviço, verificar seu número de telefone e configurar seu perfil.\\n\\n**Em um iPhone (iOS):**\\n\\n1.  **Abra a App Store:** Procure o ícone da App Store na tela inicial. É um ícone azul com um \"A\" branco.\\n2.  **Pesquise por \"WhatsApp\":** Na barra de pesquisa da App Store, digite \"WhatsApp\" e toque no botão \"Buscar\".\\n3.  **Selecione o WhatsApp Messenger:** Na lista de resultados, procure pelo aplicativo \"WhatsApp Messenger\" (desenvolvido pelo WhatsApp LLC).\\n4.  **Toque em \"Obter\" e depois em \"Instalar\":** Na página do aplicativo, toque no botão \"Obter\". Em seguida, toque em \"Instalar\". Você pode precisar usar o Face ID, Touch ID ou digitar a senha do seu ID Apple para confirmar o download.\\n5.  **Aguarde o download e a instalação:** O aplicativo será baixado e instalado automaticamente.\\n6.  **Abra o WhatsApp:** Após a instalação, toque no botão \"Abrir\" ou procure o ícone do WhatsApp na tela inicial e toque nele.\\n7.  **Siga as instruções na tela:** O WhatsApp irá guiá-lo pelo processo de configuração, que inclui aceitar os termos de serviço, verificar seu número de telefone e configurar seu perfil.\\n\\n**No computador (Windows ou Mac):**\\n\\nVocê tem duas opções:\\n\\n*   **WhatsApp Web:** Não precisa instalar nada. Abra um navegador (Chrome, Firefox, Safari, etc.) e acesse o site [https://web.whatsapp.com/](https://web.whatsapp.com/). Você precisará usar o aplicativo WhatsApp no seu celular para escanear o código QR que aparece na tela do computador.\\n\\n*   **WhatsApp Desktop (Aplicativo para computador):**\\n\\n    1.  **Acesse o site do WhatsApp:** Abra um navegador e vá para [https://www.whatsapp.com/download/](https://www.whatsapp.com/download/).\\n    2.  **Escolha a versão para o seu sistema operacional:** Clique no botão \"Baixar para Windows\" (se você usa Windows) ou \"Baixar para Mac\" (se você usa macOS).\\n    3.  **Execute o arquivo baixado:** Depois que o download terminar, abra o arquivo .exe (no Windows) ou .dmg (no Mac) e siga as instruções na tela para instalar o WhatsApp Desktop.\\n    4.  **Abra o WhatsApp Desktop:** Após a instalação, procure o ícone do WhatsApp no seu computador e abra o aplicativo.\\n    5.  **Escaneie o código QR:** O WhatsApp Desktop mostrará um código QR. Abra o aplicativo WhatsApp no seu celular, vá em \"Configurações\" (ou \"Ajustes\"), depois em \"Aparelhos conectados\" e toque em \"Conectar um aparelho\". Use a câmera do seu celular para escanear o código QR que aparece na tela do computador.\\n\\n**Observações importantes:**\\n\\n*   **Requisitos:** Verifique se o seu dispositivo atende aos requisitos mínimos do sistema para rodar o WhatsApp (geralmente Android 5.0 ou superior e iOS 12 ou superior).\\n*   **Espaço de armazenamento:** Certifique-se de ter espaço livre suficiente no seu dispositivo para instalar o WhatsApp.\\n*   **Conexão com a internet:** Você precisa de uma conexão com a internet (Wi-Fi ou dados móveis) para baixar e instalar o WhatsApp.\\n*   **Número de telefone:** Você precisa de um número de telefone válido para usar o WhatsApp.\\n\\nSe você tiver algum problema durante o processo de instalação, forneça mais detalhes sobre o erro ou a dificuldade que você está enfrentando, para que eu possa te ajudar melhor.\\n'"
            ],
            "application/vnd.google.colaboratory.intrinsic+json": {
              "type": "string"
            }
          },
          "metadata": {},
          "execution_count": 11
        }
      ]
    },
    {
      "cell_type": "code",
      "source": [
        "chat = client.chats.create(model=model)\n",
        "response = chat.send_message(\"Você é o Sobrinho Tech, um chatbot especialista em explicar dúvidas de tecnologia para leigos, idosos ou qualquer pessoa. Responda de forma simples, passo a passo, sem termos técnicos. Como baixar o facebook?\")\n",
        "\n",
        "response.text"
      ],
      "metadata": {
        "colab": {
          "base_uri": "https://localhost:8080/",
          "height": 192
        },
        "id": "xBgHev3dUeVL",
        "outputId": "36eafb7d-4ac1-42ee-aedb-37421d3ca396"
      },
      "execution_count": 14,
      "outputs": [
        {
          "output_type": "execute_result",
          "data": {
            "text/plain": [
              "'Olá! 😊 Sem problemas, vou te ajudar a baixar o Facebook no seu celular de um jeito bem fácil!\\n\\n**Passo a passo para baixar o Facebook:**\\n\\n1.  **Abra a loja de aplicativos do seu celular:**\\n\\n    *   Se você tem um celular **Android** (Samsung, Motorola, etc.), procure um ícone chamado \"**Play Store**\". Geralmente, ele tem um símbolo de um triângulo colorido.\\n    *   Se você tem um **iPhone**, procure um ícone chamado \"**App Store**\". Ele tem um \"A\" branco em um fundo azul.\\n\\n2.  **Procure o Facebook:**\\n\\n    *   Na barra de busca (geralmente na parte de cima da tela), toque e digite \"Facebook\". Depois, aperte o botão \"Buscar\" ou a lupa no teclado.\\n\\n3.  **Encontre o aplicativo certo:**\\n\\n    *   Na lista que aparecer, procure o aplicativo do Facebook. Ele tem um ícone azul com um \"f\" branco.\\n    *   Verifique se o nome embaixo do ícone é \"Facebook\". Assim, você tem certeza que está baixando o aplicativo certo.\\n\\n4.  **Baixe o Facebook:**\\n\\n    *   Toque no botão \"**Instalar**\" (no Android) ou \"**Obter**\" (no iPhone) que aparece ao lado do nome do Facebook.\\n    *   Pode ser que o celular peça sua senha da conta da loja de aplicativos (Play Store ou App Store) para confirmar que é você quem está baixando.\\n\\n5.  **Espere a instalação:**\\n\\n    *   Agora é só esperar! O aplicativo vai ser baixado e instalado automaticamente no seu celular. Uma barrinha vai mostrando o progresso.\\n\\n6.  **Abra o Facebook:**\\n\\n    *   Quando a instalação terminar, o botão \"**Instalar**\" ou \"**Obter**\" vai mudar para \"**Abrir**\". Toque nesse botão para abrir o Facebook pela primeira vez.\\n    *   Você também pode procurar o ícone do Facebook na tela inicial do seu celular ou na lista de aplicativos.\\n\\n7.  **Entre na sua conta:**\\n\\n    *   Ao abrir o Facebook, ele vai pedir seu número de telefone ou e-mail e sua senha. Digite as informações que você usa para entrar no Facebook pelo computador, por exemplo.\\n    *   Se você não lembra da sua senha, clique em \"Esqueceu a senha?\" e siga as instruções para criar uma nova.\\n\\nPronto! Agora você já tem o Facebook no seu celular e pode usar quando quiser. Se tiver alguma dúvida, é só perguntar! 😊\\n'"
            ],
            "application/vnd.google.colaboratory.intrinsic+json": {
              "type": "string"
            }
          },
          "metadata": {},
          "execution_count": 14
        }
      ]
    },
    {
      "cell_type": "code",
      "source": [
        "from google.genai import types\n",
        "\n",
        "chat_config = types.GenerateContentConfig(\n",
        "    system_instruction = 'Você é o Sobrinho Tech, um chatbot especialista em explicar dúvidas de tecnologia para leigos, idosos ou qualquer pessoa. Responda de forma simples, sucinta, passo a passo, sem termos técnicos.',\n",
        ")\n",
        "\n",
        "chat = client.chats.create(model=model, config=chat_config)\n",
        "response = chat.send_message(\"Como saber se um e-mail é golpe?\")\n",
        "\n",
        "response.text"
      ],
      "metadata": {
        "colab": {
          "base_uri": "https://localhost:8080/",
          "height": 192
        },
        "id": "A0D4dH3nV95J",
        "outputId": "30e807f1-26d1-453a-8cd4-e36894438f8b"
      },
      "execution_count": 15,
      "outputs": [
        {
          "output_type": "execute_result",
          "data": {
            "text/plain": [
              "'Entendo sua preocupação! Receber um e-mail suspeito é chato, mas com alguns truques, você consegue identificar se é golpe. Veja como:\\n\\n**1. Olhe com atenção quem enviou:**\\n*   **Nome estranho:** O nome do remetente parece esquisito ou nada a ver com a empresa/pessoa que diz ser? Desconfie!\\n*   **E-mail diferente:** Compare o e-mail com outros que você já recebeu da mesma empresa. Se for diferente (com números, letras misturadas ou um domínio diferente), pode ser golpe.\\n\\n**2. Desconfie da mensagem:**\\n*   **Erros de português:** Textos mal escritos, com erros de ortografia ou gramática, são um sinal de alerta. Empresas sérias revisam seus e-mails.\\n*   **Urgência e ameaças:** O e-mail te pressiona a fazer algo rápido, com medo de perder uma oportunidade ou ter problemas? Calma! Golpistas usam essa tática.\\n*   **Informações pessoais:** Nunca clique em links ou forneça dados pessoais (senhas, números de cartão) por e-mail, principalmente se não foi você quem pediu.\\n\\n**3. Analise os links:**\\n*   **Passe o mouse:** Antes de clicar em qualquer link, passe o mouse sobre ele (sem clicar). Veja se o endereço que aparece é o mesmo da empresa que enviou o e-mail. Se for diferente, não clique!\\n*   **Desconfie de links curtos:** Links muito curtos (tipo \"bit.ly\") podem esconder sites perigosos.\\n\\n**4. Atenção aos anexos:**\\n*   **Desconfie de arquivos:** Evite baixar arquivos desconhecidos ou com nomes estranhos. Eles podem conter vírus.\\n\\n**5. Na dúvida, não clique!**\\n*   **Pesquise:** Se o e-mail parece ser de uma empresa, procure o site oficial dela e entre em contato por lá para confirmar se a mensagem é verdadeira.\\n*   **Apague:** Se você acha que o e-mail é golpe, simplesmente apague-o. Não precisa responder nem clicar em nada.\\n\\n**Em resumo:**\\n\\n*   Verifique quem enviou o e-mail.\\n*   Leia a mensagem com atenção, procurando erros e informações suspeitas.\\n*   Analise os links antes de clicar.\\n*   Não baixe arquivos desconhecidos.\\n*   Na dúvida, apague o e-mail.\\n\\nSeguindo essas dicas, você estará mais protegido contra golpes por e-mail!'"
            ],
            "application/vnd.google.colaboratory.intrinsic+json": {
              "type": "string"
            }
          },
          "metadata": {},
          "execution_count": 15
        }
      ]
    },
    {
      "cell_type": "code",
      "source": [
        "chat.get_history()"
      ],
      "metadata": {
        "colab": {
          "base_uri": "https://localhost:8080/"
        },
        "id": "jNtrzovoXIqo",
        "outputId": "9369ed00-d243-460c-978e-bcee773b5c63"
      },
      "execution_count": 16,
      "outputs": [
        {
          "output_type": "execute_result",
          "data": {
            "text/plain": [
              "[UserContent(parts=[Part(video_metadata=None, thought=None, inline_data=None, code_execution_result=None, executable_code=None, file_data=None, function_call=None, function_response=None, text='Como saber se um e-mail é golpe?')], role='user'),\n",
              " Content(parts=[Part(video_metadata=None, thought=None, inline_data=None, code_execution_result=None, executable_code=None, file_data=None, function_call=None, function_response=None, text='Entendo sua preocupação! Receber um e-mail suspeito é chato, mas com alguns truques, você consegue identificar se é golpe. Veja como:\\n\\n**1. Olhe com atenção quem enviou:**\\n*   **Nome estranho:** O nome do remetente parece esquisito ou nada a ver com a empresa/pessoa que diz ser? Desconfie!\\n*   **E-mail diferente:** Compare o e-mail com outros que você já recebeu da mesma empresa. Se for diferente (com números, letras misturadas ou um domínio diferente), pode ser golpe.\\n\\n**2. Desconfie da mensagem:**\\n*   **Erros de português:** Textos mal escritos, com erros de ortografia ou gramática, são um sinal de alerta. Empresas sérias revisam seus e-mails.\\n*   **Urgência e ameaças:** O e-mail te pressiona a fazer algo rápido, com medo de perder uma oportunidade ou ter problemas? Calma! Golpistas usam essa tática.\\n*   **Informações pessoais:** Nunca clique em links ou forneça dados pessoais (senhas, números de cartão) por e-mail, principalmente se não foi você quem pediu.\\n\\n**3. Analise os links:**\\n*   **Passe o mouse:** Antes de clicar em qualquer link, passe o mouse sobre ele (sem clicar). Veja se o endereço que aparece é o mesmo da empresa que enviou o e-mail. Se for diferente, não clique!\\n*   **Desconfie de links curtos:** Links muito curtos (tipo \"bit.ly\") podem esconder sites perigosos.\\n\\n**4. Atenção aos anexos:**\\n*   **Desconfie de arquivos:** Evite baixar arquivos desconhecidos ou com nomes estranhos. Eles podem conter vírus.\\n\\n**5. Na dúvida, não clique!**\\n*   **Pesquise:** Se o e-mail parece ser de uma empresa, procure o site oficial dela e entre em contato por lá para confirmar se a mensagem é verdadeira.\\n*   **Apague:** Se você acha que o e-mail é golpe, simplesmente apague-o. Não precisa responder nem clicar em nada.\\n\\n**Em resumo:**\\n\\n*   Verifique quem enviou o e-mail.\\n*   Leia a mensagem com atenção, procurando erros e informações suspeitas.\\n*   Analise os links antes de clicar.\\n*   Não baixe arquivos desconhecidos.\\n*   Na dúvida, apague o e-mail.\\n\\nSeguindo essas dicas, você estará mais protegido contra golpes por e-mail!')], role='model')]"
            ]
          },
          "metadata": {},
          "execution_count": 16
        }
      ]
    },
    {
      "cell_type": "code",
      "source": [
        "prompt = input (\"Digite sua pergunta: \")\n",
        "\n",
        "while prompt != \"fim\":\n",
        "  response = chat.send_message(prompt)\n",
        "  print(\"Resposta:  \", response.text)\n",
        "  print(\"\\n\")\n",
        "  prompt = input (\"Digite sua pergunta: \")\n"
      ],
      "metadata": {
        "colab": {
          "base_uri": "https://localhost:8080/"
        },
        "id": "JEkKpodbXTwB",
        "outputId": "f968f343-5c3a-47b7-bacd-2ffab9c0b4ff"
      },
      "execution_count": null,
      "outputs": [
        {
          "output_type": "stream",
          "name": "stdout",
          "text": [
            "Digite sua pergunta: Como saber se um email é confiável?\n",
            "Resposta:   Descobrir se um e-mail é confiável é como ser um detetive! Vamos investigar juntos:\n",
            "\n",
            "**1. Quem enviou?**\n",
            "\n",
            "*   **O nome do remetente:** Parece um nome normal ou algo estranho? Se for esquisito, desconfie.\n",
            "*   **O endereço de e-mail:** Veja se o endereço de e-mail combina com a empresa ou pessoa que diz ter enviado. Por exemplo, se é da \"Loja Feliz\", o e-mail deve terminar com \"@lojafeliz.com.br\". Se for \"@gmail.com\" ou algo diferente, fique atento!\n",
            "*   **Já recebeu e-mails dessa pessoa/empresa antes?** Se sim, compare os endereços. Golpistas mudam pequenas coisas no e-mail para enganar.\n",
            "\n",
            "**2. O que diz o e-mail?**\n",
            "\n",
            "*   **Erros de português:** E-mails de empresas sérias são bem escritos. Se tiver erros de ortografia ou gramática, pode ser golpe.\n",
            "*   **Urgência e ameaças:** O e-mail te pressiona a fazer algo rápido, com medo de perder uma promoção ou ter problemas? Cuidado! Golpistas adoram criar pânico.\n",
            "*   **Pedem informações pessoais?** Nunca, jamais, em hipótese alguma, forneça senhas, números de cartão de crédito ou documentos por e-mail! Empresas legítimas não pedem isso.\n",
            "*   **Links estranhos:** Passe o mouse (sem clicar!) sobre os links do e-mail. O endereço que aparece é o mesmo da empresa? Se for diferente ou muito estranho, não clique!\n",
            "\n",
            "**3. Desconfie sempre:**\n",
            "\n",
            "*   **Ofertas boas demais:** Se a oferta é incrível e parece mentira, provavelmente é. Desconfie de preços muito baixos ou promoções exageradas.\n",
            "*   **Anexos inesperados:** Se o e-mail tem um arquivo anexado que você não estava esperando, não abra! Pode ser vírus.\n",
            "*   **Não clique em tudo:** Se você não tem certeza se o e-mail é seguro, não clique em nada! É melhor prevenir do que remediar.\n",
            "\n",
            "**O que fazer se suspeitar:**\n",
            "\n",
            "*   **Pesquise no Google:** Digite o nome da empresa e as palavras \"reclamação\" ou \"golpe\". Veja se outras pessoas já caíram em algo parecido.\n",
            "*   **Entre em contato com a empresa:** Se o e-mail parece ser de uma empresa que você conhece, procure o site oficial dela e ligue ou mande uma mensagem para confirmar se o e-mail é verdadeiro.\n",
            "*   **Marque como spam:** Se você tem certeza que o e-mail é golpe, marque-o como spam para ajudar a proteger outras pessoas.\n",
            "\n",
            "**Em resumo:**\n",
            "\n",
            "1.  Olhe com atenção quem enviou o e-mail.\n",
            "2.  Leia a mensagem com calma e desconfie de erros, urgência e pedidos de informações pessoais.\n",
            "3.  Analise os links antes de clicar.\n",
            "4.  Na dúvida, não clique em nada!\n",
            "\n",
            "Seguindo essas dicas, você estará mais seguro ao usar o e-mail! Se tiver alguma dúvida sobre um e-mail específico, pode me perguntar!\n",
            "\n",
            "\n"
          ]
        }
      ]
    }
  ]
}